{
 "cells": [
  {
   "cell_type": "markdown",
   "metadata": {},
   "source": [
    "### Import Relevant libraries"
   ]
  },
  {
   "cell_type": "code",
   "execution_count": null,
   "metadata": {},
   "outputs": [],
   "source": [
    "from selenium import webdriver\n",
    "from selenium.webdriver.common import keys\n",
    "\n",
    "import time"
   ]
  },
  {
   "cell_type": "markdown",
   "metadata": {},
   "source": [
    "### The Bot Class (OOP lvl 99999)"
   ]
  },
  {
   "cell_type": "code",
   "execution_count": null,
   "metadata": {},
   "outputs": [],
   "source": [
    "class TwitterBot:\n",
    "    # constructor\n",
    "    def __init__(self, username, password):\n",
    "        self.username = username\n",
    "        self.password = password\n",
    "        self.bot = webdriver.Firefox()\n",
    "        \n",
    "    # the login function    \n",
    "    def login(self):\n",
    "        bot = self.bot\n",
    "        bot.get('https://twitter.com/')\n",
    "        time.sleep(5)\n",
    "        # finds the email field by class name and password field by name\n",
    "        email = bot.find_element_by_class_name('email-input')\n",
    "        password = bot.find_element_by_name('session[password]')\n",
    "        # clear the fields in case they're already filled (as they are if you've saved previous login info)\n",
    "        email.clear()\n",
    "        password.clear()\n",
    "        # fills in the email and password\n",
    "        email.send_keys(self.username)\n",
    "        password.send_keys(self.password)\n",
    "        password.send_keys(Keys.RETURN)\n",
    "        time.sleep(5)\n",
    "        \n",
    "    # the function to like tweets    \n",
    "    def like_tweet(self, hashtag):\n",
    "        bot = self.bot\n",
    "        bot.get('https://twitter.com/search?q=' + hashtag + '&src=typd')\n",
    "        time.sleep(5)\n",
    "        \n",
    "        # change the range according to the number of scrolls you want it to do\n",
    "        for i in range(5):\n",
    "            bot.execute_script('window.scrollTo(0, document.body.scrollHeight)')\n",
    "            time.sleep(3)\n",
    "            # fin the tweet element by class name\n",
    "            tweets = bot.find_element_by_class_name('tweet')\n",
    "            # makes a list of tweet links from the scrolled webpage\n",
    "            links = [elem.get_attribute('data-permalink-path') for elem in tweets]\n",
    "            \n",
    "            for link in links:\n",
    "                bot.get('https://twitter.com' + link)\n",
    "                # added a try except case in case the bot is unable to find the heart button\n",
    "                # prevents crash\n",
    "                try:\n",
    "                    # finds the like button, it is labelled as class HeartAnimation\n",
    "                    bot.find_element_by_class_name('HeartAnimation').click\n",
    "                    time.sleep(10)\n",
    "                except Exception as ex:\n",
    "                    time.sleep(30)\n",
    "                    \n",
    "                    \n",
    "# currently the sleep time is set according to a slow network, decrease it in case of fast internet\n",
    "# made on 10/07/2019, working rn"
   ]
  },
  {
   "cell_type": "markdown",
   "metadata": {},
   "source": [
    "### Initialize the bot and start working"
   ]
  },
  {
   "cell_type": "code",
   "execution_count": null,
   "metadata": {},
   "outputs": [],
   "source": [
    "# fill in your email and password at the place of 'email' and 'password' in the line below\n",
    "# use inverted commas on both sides of email and password as already done\n",
    "theBotInstance = TwitterBot('email','password')\n",
    "theBotInstance.login()\n",
    "\n",
    "# currently the hashtag to search is set to india, change it according to your requirements\n",
    "theBotInstance.like_tweet('india')"
   ]
  }
 ],
 "metadata": {
  "kernelspec": {
   "display_name": "Python 3",
   "language": "python",
   "name": "python3"
  },
  "language_info": {
   "codemirror_mode": {
    "name": "ipython",
    "version": 3
   },
   "file_extension": ".py",
   "mimetype": "text/x-python",
   "name": "python",
   "nbconvert_exporter": "python",
   "pygments_lexer": "ipython3",
   "version": "3.7.3"
  }
 },
 "nbformat": 4,
 "nbformat_minor": 2
}
